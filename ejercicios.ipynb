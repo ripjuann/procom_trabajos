{
  "nbformat": 4,
  "nbformat_minor": 0,
  "metadata": {
    "colab": {
      "name": "ejercicios",
      "provenance": [],
      "collapsed_sections": [
        "BUx1mblEVKIz",
        "AVFE73wccuCd",
        "0TbfYCbnevUC",
        "HRog64xFc-D0",
        "bKAG_v7_eQAh",
        "18YGwFKyWe53"
      ]
    },
    "kernelspec": {
      "name": "python3",
      "display_name": "Python 3"
    },
    "language_info": {
      "name": "python"
    }
  },
  "cells": [
    {
      "cell_type": "markdown",
      "source": [
        "##Ejercicio 1"
      ],
      "metadata": {
        "id": "BUx1mblEVKIz"
      }
    },
    {
      "cell_type": "code",
      "execution_count": null,
      "metadata": {
        "colab": {
          "base_uri": "https://localhost:8080/"
        },
        "id": "hvuLJ1YOVCSH",
        "outputId": "f98a8f19-4bf1-4512-bca4-13abbbeeef71"
      },
      "outputs": [
        {
          "output_type": "stream",
          "name": "stdout",
          "text": [
            "ingresa un número 4\n",
            "El número ingresado no es primo\n"
          ]
        }
      ],
      "source": [
        "numero= int(2)\n",
        "num=\"j\"\n",
        "\n",
        "n=int(input(\"ingresa un número \"))\n",
        "while((num==\"j\")and(numero<n)): \n",
        "    if((n%numero)==0):\n",
        "     num=\"s\"\n",
        "    else:\n",
        "     numero=numero+1\n",
        "if n==1:\n",
        "  print(\"El número ingresado no es primo\")\n",
        "elif (num==\"j\"):\n",
        "  print(\"El número ingresado es primo\")\n",
        "else:\n",
        "  print(\"El número ingresado no es primo\")\n",
        "\n",
        "\n"
      ]
    },
    {
      "cell_type": "markdown",
      "source": [
        "##Ejercicio 2"
      ],
      "metadata": {
        "id": "AVFE73wccuCd"
      }
    },
    {
      "cell_type": "code",
      "source": [
        "def fi(num):\n",
        "    j, c = 0,1\n",
        "    while j < num:\n",
        "        print(j, end=' ')\n",
        "        j, c = c, j+c\n",
        "    print()\n",
        "fi(800000)  \n"
      ],
      "metadata": {
        "id": "xq_5TcHmctDH",
        "colab": {
          "base_uri": "https://localhost:8080/"
        },
        "outputId": "67eff9f7-d472-4326-a3ff-1d01586cf1e2"
      },
      "execution_count": null,
      "outputs": [
        {
          "output_type": "stream",
          "name": "stdout",
          "text": [
            "0 1 1 2 3 5 8 13 21 34 55 89 144 233 377 610 987 1597 2584 4181 6765 10946 17711 28657 46368 75025 121393 196418 317811 514229 \n"
          ]
        }
      ]
    },
    {
      "cell_type": "markdown",
      "source": [
        "##Ejercicio 3"
      ],
      "metadata": {
        "id": "0TbfYCbnevUC"
      }
    },
    {
      "cell_type": "code",
      "source": [
        "j = input(\"ingrese un numero:\")\n",
        "k = int(j)\n",
        "c = 1\n",
        "s = 1\n",
        "while s <= k:\n",
        "    c = c * s\n",
        "    s = s + 1\n",
        "print(c)"
      ],
      "metadata": {
        "colab": {
          "base_uri": "https://localhost:8080/"
        },
        "id": "4ftXybPZbgvL",
        "outputId": "aa27d0ea-86c5-4113-fde2-a27621c3c21c"
      },
      "execution_count": null,
      "outputs": [
        {
          "output_type": "stream",
          "name": "stdout",
          "text": [
            "ingrese un numero:10\n",
            "3628800\n"
          ]
        }
      ]
    },
    {
      "cell_type": "markdown",
      "source": [
        "##Ejercicio 4"
      ],
      "metadata": {
        "id": "HRog64xFc-D0"
      }
    },
    {
      "cell_type": "code",
      "source": [],
      "metadata": {
        "colab": {
          "base_uri": "https://localhost:8080/"
        },
        "id": "rj1MS65mc9jS",
        "outputId": "08c4bbfb-8910-4655-c1ce-64d29cc6357c"
      },
      "execution_count": null,
      "outputs": [
        {
          "output_type": "stream",
          "name": "stdout",
          "text": [
            "ingrese un numero:1\n",
            "ingrese un numero:2\n",
            "ingrese un numero:3\n",
            "ingrese un numero:4\n",
            "ingrese un numero:5\n",
            "ingrese un numero:6\n",
            "ingrese un numero:7\n",
            "ingrese un numero:8\n",
            "ingrese un numero:9\n",
            "ingrese un numero:10\n",
            "3628800\n"
          ]
        }
      ]
    },
    {
      "cell_type": "markdown",
      "source": [
        "##Ejercicio 5"
      ],
      "metadata": {
        "id": "bKAG_v7_eQAh"
      }
    },
    {
      "cell_type": "code",
      "source": [
        "num=[]\n",
        "for i in range(20):\n",
        "  numero = int(input(\"Introduce el número \"))\n",
        "  num.append(numero)\n",
        "  mayor = num[0]\n",
        "  for numero in num:\n",
        "    if numero > mayor:\n",
        "        mayor = numero\n",
        "  menor = num[0]\n",
        "  for numero in num:\n",
        "    if numero < menor:\n",
        "        menor = numero\n",
        "print(\"Mayor:\", mayor)\n",
        "print(\"Menor:\", menor)"
      ],
      "metadata": {
        "colab": {
          "base_uri": "https://localhost:8080/"
        },
        "id": "xMbq3cPkePda",
        "outputId": "6dc744e4-1403-45b4-cd34-e493390d5e73"
      },
      "execution_count": null,
      "outputs": [
        {
          "output_type": "stream",
          "name": "stdout",
          "text": [
            "Introduce el número1\n",
            "Introduce el número2\n",
            "Introduce el número3\n",
            "Introduce el número4\n",
            "Introduce el número5\n",
            "Introduce el número6\n",
            "Introduce el número7\n",
            "Introduce el número8\n",
            "Introduce el número9\n",
            "Introduce el número10\n",
            "Introduce el número11\n",
            "Introduce el número12\n",
            "Introduce el número13\n",
            "Introduce el número14\n",
            "Introduce el número15\n",
            "Introduce el número16\n",
            "Introduce el número17\n",
            "Introduce el número18\n",
            "Introduce el número19\n",
            "Introduce el número20\n",
            "Mayor: 20\n",
            "Menor: 1\n"
          ]
        }
      ]
    },
    {
      "cell_type": "markdown",
      "source": [
        "##Ejercicio 6"
      ],
      "metadata": {
        "id": "18YGwFKyWe53"
      }
    },
    {
      "cell_type": "code",
      "source": [
        "n=int(input(\"ingrese la multiplicación que desee calcular \"))\n",
        "for i in range(1,11):\n",
        "  print(n,\"x\",i,\"=\",n*i)"
      ],
      "metadata": {
        "colab": {
          "base_uri": "https://localhost:8080/"
        },
        "id": "EQKdrxwtWh8v",
        "outputId": "8bd68341-bb5f-494b-85d5-2fc45784c8c2"
      },
      "execution_count": null,
      "outputs": [
        {
          "output_type": "stream",
          "name": "stdout",
          "text": [
            "ingrese la multiplicación que desee calcular 1\n",
            "1 x 1 = 1\n",
            "1 x 2 = 2\n",
            "1 x 3 = 3\n",
            "1 x 4 = 4\n",
            "1 x 5 = 5\n",
            "1 x 6 = 6\n",
            "1 x 7 = 7\n",
            "1 x 8 = 8\n",
            "1 x 9 = 9\n",
            "1 x 10 = 10\n"
          ]
        }
      ]
    },
    {
      "cell_type": "markdown",
      "source": [
        "##Ejercicio 7"
      ],
      "metadata": {
        "id": "PBYYCuNEm7XA"
      }
    },
    {
      "cell_type": "code",
      "source": [],
      "metadata": {
        "id": "gIH1KKhbm_ZU"
      },
      "execution_count": null,
      "outputs": []
    }
  ]
}