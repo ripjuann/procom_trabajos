{
  "nbformat": 4,
  "nbformat_minor": 0,
  "metadata": {
    "colab": {
      "name": "ejercicios",
      "provenance": []
    },
    "kernelspec": {
      "name": "python3",
      "display_name": "Python 3"
    },
    "language_info": {
      "name": "python"
    }
  },
  "cells": [
    {
      "cell_type": "markdown",
      "source": [
        "##Ejercicio 1"
      ],
      "metadata": {
        "id": "BUx1mblEVKIz"
      }
    },
    {
      "cell_type": "code",
      "execution_count": 41,
      "metadata": {
        "colab": {
          "base_uri": "https://localhost:8080/"
        },
        "id": "hvuLJ1YOVCSH",
        "outputId": "f98a8f19-4bf1-4512-bca4-13abbbeeef71"
      },
      "outputs": [
        {
          "output_type": "stream",
          "name": "stdout",
          "text": [
            "ingresa un número 4\n",
            "El número ingresado no es primo\n"
          ]
        }
      ],
      "source": [
        "numero= int(2)\n",
        "num=\"j\"\n",
        "\n",
        "n=int(input(\"ingresa un número \"))\n",
        "while((num==\"j\")and(numero<n)): \n",
        "    if((n%numero)==0):\n",
        "     num=\"s\"\n",
        "    else:\n",
        "     numero=numero+1\n",
        "if n==1:\n",
        "  print(\"El número ingresado no es primo\")\n",
        "elif (num==\"j\"):\n",
        "  print(\"El número ingresado es primo\")\n",
        "else:\n",
        "  print(\"El número ingresado no es primo\")\n",
        "\n",
        "\n"
      ]
    },
    {
      "cell_type": "markdown",
      "source": [
        "##Ejercicio 2"
      ],
      "metadata": {
        "id": "AVFE73wccuCd"
      }
    },
    {
      "cell_type": "code",
      "source": [
        "max=30\n",
        "n=1\n",
        "for i in range(0,max):\n",
        "  numero=(n+n)\n"
      ],
      "metadata": {
        "id": "xq_5TcHmctDH"
      },
      "execution_count": 45,
      "outputs": []
    },
    {
      "cell_type": "markdown",
      "source": [
        "##Ejercicio 3"
      ],
      "metadata": {
        "id": "0TbfYCbnevUC"
      }
    },
    {
      "cell_type": "code",
      "source": [
        "fac=int(1)\n",
        "n=int(input(\"ingrese un numero \"))\n",
        "while (numero !=0):\n",
        "  fac=fac*n\n",
        "  n=n-1\n",
        "print(\"la factorial del numero es\", fac)"
      ],
      "metadata": {
        "colab": {
          "base_uri": "https://localhost:8080/"
        },
        "id": "DhWse2utesZK",
        "outputId": "477ac643-e34c-4e51-e5db-4feb8cad635c"
      },
      "execution_count": null,
      "outputs": [
        {
          "name": "stdout",
          "output_type": "stream",
          "text": [
            "ingrese un numero 1\n"
          ]
        }
      ]
    },
    {
      "cell_type": "markdown",
      "source": [
        "##Ejercicio 6"
      ],
      "metadata": {
        "id": "18YGwFKyWe53"
      }
    },
    {
      "cell_type": "code",
      "source": [
        "n=int(input(\"ingrese la multiplicación que desee calcular \"))\n",
        "for i in range(1,11):\n",
        "  print(n,\"x\",i,\"=\",n*i)"
      ],
      "metadata": {
        "colab": {
          "base_uri": "https://localhost:8080/"
        },
        "id": "EQKdrxwtWh8v",
        "outputId": "8bd68341-bb5f-494b-85d5-2fc45784c8c2"
      },
      "execution_count": 46,
      "outputs": [
        {
          "output_type": "stream",
          "name": "stdout",
          "text": [
            "ingrese la multiplicación que desee calcular 1\n",
            "1 x 1 = 1\n",
            "1 x 2 = 2\n",
            "1 x 3 = 3\n",
            "1 x 4 = 4\n",
            "1 x 5 = 5\n",
            "1 x 6 = 6\n",
            "1 x 7 = 7\n",
            "1 x 8 = 8\n",
            "1 x 9 = 9\n",
            "1 x 10 = 10\n"
          ]
        }
      ]
    }
  ]
}