{
  "nbformat": 4,
  "nbformat_minor": 0,
  "metadata": {
    "colab": {
      "provenance": []
    },
    "kernelspec": {
      "name": "python3",
      "display_name": "Python 3"
    },
    "language_info": {
      "name": "python"
    }
  },
  "cells": [
    {
      "cell_type": "code",
      "execution_count": 2,
      "metadata": {
        "colab": {
          "base_uri": "https://localhost:8080/"
        },
        "id": "X3Xz3iXJSkiI",
        "outputId": "87a1fe84-0257-4a60-f084-aaf53e560c83"
      },
      "outputs": [
        {
          "name": "stdout",
          "output_type": "stream",
          "text": [
            "ingresa la cantidad de estudiantes del salón 1 25\n",
            "ingresa la cantidad de estudiantes del salón 2 45\n",
            "ingresa la cantidad de estudiantes del salón 3 12\n"
          ]
        }
      ],
      "source": [
        "NumeroEstudiantes1=input(\"ingresa la cantidad de estudiantes del salón 1 \")\n",
        "est1={'Estu':[0,NumeroEstudiantes1], 'notas':[0,NumeroEstudiantes1]}\n",
        "NumeroEstudiantes2=input(\"ingresa la cantidad de estudiantes del salón 2 \")\n",
        "est2={'Estu':[0,NumeroEstudiantes2], 'notas':[0,NumeroEstudiantes2]}\n",
        "NumeroEstudiantes3=input(\"ingresa la cantidad de estudiantes del salón 3 \")\n",
        "est3={'Estu':[0,NumeroEstudiantes3], 'notas':[0,NumeroEstudiantes3]}"
      ]
    }
  ]
}