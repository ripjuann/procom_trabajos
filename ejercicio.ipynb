{
  "nbformat": 4,
  "nbformat_minor": 0,
  "metadata": {
    "colab": {
      "provenance": []
    },
    "kernelspec": {
      "name": "python3",
      "display_name": "Python 3"
    },
    "language_info": {
      "name": "python"
    }
  },
  "cells": [
    {
      "cell_type": "code",
      "execution_count": 94,
      "metadata": {
        "colab": {
          "base_uri": "https://localhost:8080/"
        },
        "id": "hovLp0QV9k8A",
        "outputId": "bef8b1fd-90d0-40b7-cebb-1cc2ae09c4b4"
      },
      "outputs": [
        {
          "output_type": "stream",
          "name": "stdout",
          "text": [
            "           comidas precios\n",
            "0          combo 1  $20000\n",
            "1          combo 2  $25000\n",
            "2          combo 3  $18000\n",
            "3          combo 4  $24500\n",
            "4            papas   $3000\n",
            "5  jugos naturales   $7000\n",
            "6          cerveza   $3500\n",
            "7             agua   $4000\n",
            "8          gaseosa   $2500\n",
            "ingrese su pedido, por favor combo 1\n",
            "¿desea pedir algo más? (si/no) si\n",
            "ingrese su pedido, por favor combo 2\n",
            "¿desea pedir algo más? (si/no) no\n",
            "combo 2\n"
          ]
        }
      ],
      "source": [
        "from pandas.core.reshape.merge import string\n",
        "import pandas as pd\n",
        "picha={\"comidas\":[\"combo 1\",\"combo 2\",\"combo 3\",\"combo 4\",\"papas\",\"jugos naturales\",\"cerveza\",\"agua\",\"gaseosa\"],\"precios\":[\"$20000\",\"$25000\",\"$18000\",\"$24500\",\"$3000\",\"$7000\",\"$3500\",\"$4000\",\"$2500\"]}\n",
        "print(pd.DataFrame.from_dict(picha))\n",
        "paco={\"combo 1\":2000,\"combo 2\":25000}\n",
        "sikz= True\n",
        "while sikz:\n",
        "  pedido=input(\"ingrese su pedido, por favor \")\n",
        "  sikz=input(\"¿desea pedir algo más? (si/no) \")==\"si\"\n",
        "if pedido in paco:\n",
        "  print(pedido)\n",
        "else:\n",
        "  print(\"ñamn't\")\n",
        "\n"
      ]
    }
  ]
}