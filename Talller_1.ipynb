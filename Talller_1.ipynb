{
  "nbformat": 4,
  "nbformat_minor": 0,
  "metadata": {
    "colab": {
      "name": "Talller 1",
      "provenance": []
    },
    "kernelspec": {
      "name": "python3",
      "display_name": "Python 3"
    },
    "language_info": {
      "name": "python"
    }
  },
  "cells": [
    {
      "cell_type": "code",
      "execution_count": null,
      "metadata": {
        "id": "2G50ZA9OqRCg"
      },
      "outputs": [],
      "source": [
        "#Taller 1"
      ]
    },
    {
      "cell_type": "markdown",
      "source": [
        "##Ejercicio 1"
      ],
      "metadata": {
        "id": "sMa0osXnqXz1"
      }
    },
    {
      "cell_type": "code",
      "source": [
        "print (\"ingresa dos numeros enteros\")\n",
        "num1=int(input(\"\"))\n",
        "num2=int(input(\"\"))\n",
        "if num2==0:\n",
        "  print(f\"la division no se puede realizar\")\n",
        "elif num1%num2==0:\n",
        "  print(f\"la division es exacta\")\n",
        "else:\n",
        "  print(f\"la division no es exacta\")\n",
        "  print(\"el residuo es\",num1%num2)"
      ],
      "metadata": {
        "colab": {
          "base_uri": "https://localhost:8080/"
        },
        "id": "K7O28R6OqkYV",
        "outputId": "8040a3b8-aa15-4d39-e655-54a18c941636"
      },
      "execution_count": 113,
      "outputs": [
        {
          "output_type": "stream",
          "name": "stdout",
          "text": [
            "ingresa dos numeros enteros\n",
            "10\n",
            "10\n",
            "la division es exacta\n"
          ]
        }
      ]
    },
    {
      "cell_type": "markdown",
      "source": [
        "##Ejercicio 2"
      ],
      "metadata": {
        "id": "UoeK021068hp"
      }
    },
    {
      "cell_type": "code",
      "source": [
        "print (\"ingresa dos numeros\")\n",
        "num1=int(input(\"\"))\n",
        "num2=int(input(\"\"))\n",
        "num1%num2\n",
        "if num1%num2==0:\n",
        "  print(\"si es multiplo\")\n",
        "else :\n",
        "  print(\"no es multiplo\")"
      ],
      "metadata": {
        "colab": {
          "base_uri": "https://localhost:8080/"
        },
        "id": "LaK1KDCg51Yy",
        "outputId": "cb51983f-d634-42cb-a896-bc5ed6bac41d"
      },
      "execution_count": 87,
      "outputs": [
        {
          "output_type": "stream",
          "name": "stdout",
          "text": [
            "ingresa dos numeros\n",
            "2\n",
            "2\n",
            "si es multiplo\n"
          ]
        }
      ]
    },
    {
      "cell_type": "markdown",
      "source": [
        "##Ejercicio 3\n"
      ],
      "metadata": {
        "id": "8CATZ_OI9Fmv"
      }
    },
    {
      "cell_type": "code",
      "source": [
        "print (\"ingrese las edades\")\n",
        "edad1=int(input(\"\"))\n",
        "edad2=int(input(\"\"))\n",
        "edad3=int(input(\"\"))\n",
        "if edad1==edad2==edad3:\n",
        "  print(\"tienen la misma edad son trillizos\")\n",
        "elif  sorted([edad1, edad2, edad3]):\n",
        "  print(sorted([edad1, edad2, edad3]))\n",
        "\n",
        "\n",
        "\n",
        "\n",
        "\n",
        "  "
      ],
      "metadata": {
        "colab": {
          "base_uri": "https://localhost:8080/"
        },
        "id": "DFourKdd9Jq9",
        "outputId": "cb393f2b-0029-4bff-833b-f13430479cd6"
      },
      "execution_count": 112,
      "outputs": [
        {
          "output_type": "stream",
          "name": "stdout",
          "text": [
            "ingrese las edades\n",
            "5\n",
            "5\n",
            "5\n",
            "tienen la misma edad son trillizos\n"
          ]
        }
      ]
    },
    {
      "cell_type": "markdown",
      "source": [
        "##Ejercicios 4\n"
      ],
      "metadata": {
        "id": "NA9MziH_CvFu"
      }
    },
    {
      "cell_type": "code",
      "source": [
        ""
      ],
      "metadata": {
        "id": "KhjiuA7xCzpX"
      },
      "execution_count": null,
      "outputs": []
    },
    {
      "cell_type": "markdown",
      "source": [
        "##Ejercicio 5"
      ],
      "metadata": {
        "id": "6kqH_j-9DeST"
      }
    },
    {
      "cell_type": "code",
      "source": [
        "print (\"ingresa tu codigo de estudiante\")\n",
        "codigo=input(\"\")\n",
        "if len(\"\")==8:\n",
        "  print(\"usted pertenece a la UNAB\")\n",
        "elif \n",
        "   print(\"usted pertenece a la UIS\")"
      ],
      "metadata": {
        "colab": {
          "base_uri": "https://localhost:8080/",
          "height": 252
        },
        "id": "6nvZqbZJDgza",
        "outputId": "4f8d84c3-25f9-4bf4-a3af-bb8f401e5ffc"
      },
      "execution_count": 131,
      "outputs": [
        {
          "name": "stdout",
          "output_type": "stream",
          "text": [
            "ingresa tu codigo de estudiante\n",
            "350008\n"
          ]
        },
        {
          "output_type": "error",
          "ename": "IndexError",
          "evalue": "ignored",
          "traceback": [
            "\u001b[0;31m---------------------------------------------------------------------------\u001b[0m",
            "\u001b[0;31mIndexError\u001b[0m                                Traceback (most recent call last)",
            "\u001b[0;32m<ipython-input-131-91a0f4ddec40>\u001b[0m in \u001b[0;36m<module>\u001b[0;34m()\u001b[0m\n\u001b[1;32m      3\u001b[0m \u001b[0;32mif\u001b[0m \u001b[0mlen\u001b[0m\u001b[0;34m(\u001b[0m\u001b[0;34m\"\"\u001b[0m\u001b[0;34m)\u001b[0m\u001b[0;34m==\u001b[0m\u001b[0;36m8\u001b[0m\u001b[0;34m:\u001b[0m\u001b[0;34m\u001b[0m\u001b[0;34m\u001b[0m\u001b[0m\n\u001b[1;32m      4\u001b[0m   \u001b[0mprint\u001b[0m\u001b[0;34m(\u001b[0m\u001b[0;34m\"usted pertenece a la UNAB\"\u001b[0m\u001b[0;34m)\u001b[0m\u001b[0;34m\u001b[0m\u001b[0;34m\u001b[0m\u001b[0m\n\u001b[0;32m----> 5\u001b[0;31m \u001b[0;32melif\u001b[0m \u001b[0;34m(\u001b[0m\u001b[0mstr\u001b[0m\u001b[0;34m(\u001b[0m\u001b[0;34m\"\"\u001b[0m\u001b[0;34m)\u001b[0m\u001b[0;34m[\u001b[0m\u001b[0;36m0\u001b[0m\u001b[0;34m+\u001b[0m\u001b[0;36m3\u001b[0m\u001b[0;34m]\u001b[0m\u001b[0;34m)\u001b[0m\u001b[0;34m<\u001b[0m\u001b[0;36m1950\u001b[0m\u001b[0;34m:\u001b[0m\u001b[0;34m\u001b[0m\u001b[0;34m\u001b[0m\u001b[0m\n\u001b[0m\u001b[1;32m      6\u001b[0m    \u001b[0mprint\u001b[0m\u001b[0;34m(\u001b[0m\u001b[0;34m\"usted pertenece a la UIS\"\u001b[0m\u001b[0;34m)\u001b[0m\u001b[0;34m\u001b[0m\u001b[0;34m\u001b[0m\u001b[0m\n",
            "\u001b[0;31mIndexError\u001b[0m: string index out of range"
          ]
        }
      ]
    }
  ]
}